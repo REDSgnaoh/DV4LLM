{
 "cells": [
  {
   "cell_type": "code",
   "execution_count": 6,
   "metadata": {},
   "outputs": [
    {
     "name": "stdout",
     "output_type": "stream",
     "text": [
      "selected size: (392702, 1)\n"
     ]
    }
   ],
   "source": [
    "import numpy as np\n",
    "from sklearn.neighbors import NearestNeighbors\n",
    "import json\n",
    "\n",
    "# Load the embeddings from the first file\n",
    "embeddings_file_1 = np.load('Embeddings/mnli/embedding.npz', allow_pickle=True)\n",
    "ids_glue = embeddings_file_1['ids_']\n",
    "vecs_glue = embeddings_file_1['vecs_']\n",
    "\n",
    "# Load the embeddings from the second file\n",
    "embeddings_file_2 = np.load('Embeddings/real_books/embedding.npz', allow_pickle=True)\n",
    "ids_train = embeddings_file_2['ids_']\n",
    "vecs_train = embeddings_file_2['vecs_']\n",
    "\n",
    "selected_10k = []\n",
    "selected_20k = []\n",
    "selected_50k = []\n",
    "selected_100k = []\n",
    "selected_150k = []\n",
    "\n",
    "\n",
    "# Initialize a NearestNeighbors model using the embeddings from the second file and cosine distance\n",
    "k_neighbors = 2  # You can change this to your desired value of k\n",
    "nbrs = NearestNeighbors(n_neighbors=k_neighbors, metric='cosine').fit(vecs_train)\n",
    "\n",
    "# Find the k-nearest neighbors of the embeddings from the first file in the space of the second file\n",
    "_, indices = nbrs.kneighbors(vecs_glue)\n",
    "\n",
    "# Create a dictionary to store the nearest neighbors for each point in the smaller file\n",
    "nearest_neighbors_list = []\n",
    "\n",
    "# Iterate through the indices and store the nearest neighbors with their IDs\n",
    "for i, neighbors in enumerate(indices):\n",
    "    nearest_neighbors_list.append([ids_train[neighbor_idx] for _, neighbor_idx in enumerate(neighbors)]) \n",
    "\n",
    "selected_ids = np.array(nearest_neighbors_list)\n",
    "print(\"selected size:\", selected_ids.shape)\n",
    "\n"
   ]
  },
  {
   "cell_type": "code",
   "execution_count": 7,
   "metadata": {},
   "outputs": [
    {
     "name": "stdout",
     "output_type": "stream",
     "text": [
      "numbers for one loop: 392702\n",
      "finished select ids!\n",
      "flags: 10000\n",
      "flags: 20000\n",
      "flags: 50000\n",
      "flags: 100000\n",
      "flags: 150000\n"
     ]
    }
   ],
   "source": [
    "# get the selected ids for different task size\n",
    "basic_samples = selected_ids.shape[0]\n",
    "print(\"numbers for one loop:\", basic_samples)\n",
    "flag_10k = 0\n",
    "flag_20k = 0\n",
    "flag_50k = 0\n",
    "flag_100k = 0\n",
    "flag_150k = 0\n",
    "loop_numbers = 0\n",
    "while (flag_150k < 150000):\n",
    "    for i in range(basic_samples):\n",
    "        if flag_10k < 10000:\n",
    "            selected_10k.append(selected_ids[i][loop_numbers])\n",
    "            flag_10k = flag_10k + 1\n",
    "\n",
    "        if flag_20k < 20000:\n",
    "            selected_20k.append(selected_ids[i][loop_numbers])\n",
    "            flag_20k = flag_20k + 1\n",
    "\n",
    "        if flag_50k < 50000:\n",
    "            selected_50k.append(selected_ids[i][loop_numbers])\n",
    "            flag_50k = flag_50k + 1\n",
    "\n",
    "        if flag_100k < 100000:\n",
    "            selected_100k.append(selected_ids[i][loop_numbers])\n",
    "            flag_100k = flag_100k + 1\n",
    "\n",
    "        if flag_150k < 150000:\n",
    "            selected_150k.append(selected_ids[i][loop_numbers])\n",
    "            flag_150k = flag_150k + 1\n",
    "            \n",
    "    loop_numbers = loop_numbers + 1\n",
    "\n",
    "print(\"finished select ids!\")\n",
    "print(\"flags:\", flag_10k)\n",
    "print(\"flags:\", flag_20k)\n",
    "print(\"flags:\", flag_50k)\n",
    "print(\"flags:\", flag_100k)\n",
    "print(\"flags:\", flag_150k)"
   ]
  },
  {
   "cell_type": "code",
   "execution_count": 8,
   "metadata": {},
   "outputs": [
    {
     "name": "stdout",
     "output_type": "stream",
     "text": [
      "number of distinct values: 27189\n"
     ]
    }
   ],
   "source": [
    "print(\"number of distinct values:\", len(set(selected_50k)))"
   ]
  },
  {
   "cell_type": "code",
   "execution_count": 9,
   "metadata": {},
   "outputs": [],
   "source": [
    "from collections import Counter\n",
    "\n",
    "# Function to read a JSONL file and select data based on specified IDs\n",
    "def select_data_by_ids(file_path, target_ids):\n",
    "    selected_data = []\n",
    "    id_counter = {}\n",
    "\n",
    "    # Create a dictionary to count occurrences of each target ID\n",
    "    for id in target_ids:\n",
    "        id_counter[id] = id_counter.get(id, 0) + 1\n",
    "\n",
    "    with open(file_path, 'r', encoding='utf-8') as file:\n",
    "        for line in file:\n",
    "            json_obj = json.loads(line)\n",
    "            obj_id = json_obj.get(\"id\")\n",
    "\n",
    "            while (obj_id in id_counter and id_counter[obj_id]) > 0:\n",
    "                selected_data.append(json_obj)\n",
    "                id_counter[obj_id] -= 1\n",
    "    \n",
    "    print(\"selected_size:\", len(selected_data))\n",
    "    return selected_data\n",
    "\n",
    "\n",
    "def write_selected_data_to_jsonl(selected_data, output_file_path):\n",
    "    with open(output_file_path, 'w') as output_file:\n",
    "        for data in selected_data:\n",
    "            json.dump(data, output_file)\n",
    "            output_file.write('\\n')"
   ]
  },
  {
   "cell_type": "code",
   "execution_count": 10,
   "metadata": {},
   "outputs": [
    {
     "name": "stdout",
     "output_type": "stream",
     "text": [
      "selected_size: 10000\n",
      "Selected data has been written to selected_data/mnli/10k.jsonl\n",
      "selected_size: 20000\n",
      "Selected data has been written to selected_data/mnli/20k.jsonl\n",
      "selected_size: 50000\n",
      "Selected data has been written to selected_data/mnli/50k.jsonl\n",
      "selected_size: 100000\n",
      "Selected data has been written to selected_data/mnli/100k.jsonl\n",
      "selected_size: 150000\n",
      "Selected data has been written to selected_data/mnli/150k.jsonl\n"
     ]
    }
   ],
   "source": [
    "# Input and output file paths\n",
    "domain_file_path = 'train_data/realb.jsonl'\n",
    "selected_file_paths = ['selected_data/mnli/10k.jsonl', 'selected_data/mnli/20k.jsonl', 'selected_data/mnli/50k.jsonl', \n",
    "                       'selected_data/mnli/100k.jsonl', 'selected_data/mnli/150k.jsonl']\n",
    "ids_to_selects = [selected_10k, selected_20k, selected_50k, selected_100k, selected_150k]\n",
    "\n",
    "for output_file_path, ids_to_select in zip(selected_file_paths, ids_to_selects):\n",
    "    # Call the function to select the data\n",
    "    selected_data = select_data_by_ids(domain_file_path, ids_to_select)\n",
    "\n",
    "    # Call the function to write the selected data to a new JSONL file\n",
    "    write_selected_data_to_jsonl(selected_data, output_file_path)\n",
    "\n",
    "    print(\"Selected data has been written to\", output_file_path)\n",
    "    \n",
    "    "
   ]
  },
  {
   "cell_type": "code",
   "execution_count": 12,
   "metadata": {},
   "outputs": [
    {
     "name": "stdout",
     "output_type": "stream",
     "text": [
      "numbers for one loop: 392702\n",
      "finished select ids!\n",
      "flags: 30000\n",
      "flags: 40000\n"
     ]
    },
    {
     "name": "stdout",
     "output_type": "stream",
     "text": [
      "selected_size: 30000\n",
      "Selected data has been written to selected_data/mnli/30k.jsonl\n",
      "selected_size: 40000\n",
      "Selected data has been written to selected_data/mnli/40k.jsonl\n"
     ]
    }
   ],
   "source": [
    "\n",
    "selected_30k = []\n",
    "selected_40k = []\n",
    "# get the selected ids for different task size\n",
    "basic_samples = selected_ids.shape[0]\n",
    "print(\"numbers for one loop:\", basic_samples)\n",
    "\n",
    "flag_30k = 0\n",
    "flag_40k = 0\n",
    "\n",
    "loop_numbers = 0\n",
    "while (flag_40k < 40000):\n",
    "    for i in range(basic_samples):\n",
    "        if flag_30k < 30000:\n",
    "            selected_30k.append(selected_ids[i][loop_numbers])\n",
    "            flag_30k = flag_30k + 1\n",
    "\n",
    "        if flag_40k < 40000:\n",
    "            selected_40k.append(selected_ids[i][loop_numbers])\n",
    "            flag_40k = flag_40k + 1\n",
    "\n",
    "            \n",
    "    loop_numbers = loop_numbers + 1\n",
    "\n",
    "print(\"finished select ids!\")\n",
    "print(\"flags:\", flag_30k)\n",
    "print(\"flags:\", flag_40k)\n",
    "\n",
    "# Input and output file paths\n",
    "domain_file_path = 'train_data/realb.jsonl'\n",
    "selected_file_paths = ['selected_data/mnli/30k.jsonl', 'selected_data/mnli/40k.jsonl']\n",
    "\n",
    "ids_to_selects = [selected_30k, selected_40k]\n",
    "\n",
    "for output_file_path, ids_to_select in zip(selected_file_paths, ids_to_selects):\n",
    "    # Call the function to select the data\n",
    "    selected_data = select_data_by_ids(domain_file_path, ids_to_select)\n",
    "\n",
    "    # Call the function to write the selected data to a new JSONL file\n",
    "    write_selected_data_to_jsonl(selected_data, output_file_path)\n",
    "\n",
    "    print(\"Selected data has been written to\", output_file_path)\n",
    "    \n",
    "\n"
   ]
  },
  {
   "cell_type": "code",
   "execution_count": null,
   "metadata": {},
   "outputs": [],
   "source": []
  }
 ],
 "metadata": {
  "kernelspec": {
   "display_name": "vampire-env",
   "language": "python",
   "name": "python3"
  },
  "language_info": {
   "codemirror_mode": {
    "name": "ipython",
    "version": 3
   },
   "file_extension": ".py",
   "mimetype": "text/x-python",
   "name": "python",
   "nbconvert_exporter": "python",
   "pygments_lexer": "ipython3",
   "version": "3.9.17"
  },
  "orig_nbformat": 4
 },
 "nbformat": 4,
 "nbformat_minor": 2
}
